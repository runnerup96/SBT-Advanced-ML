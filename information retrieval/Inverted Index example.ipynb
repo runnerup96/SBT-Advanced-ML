{
 "cells": [
  {
   "cell_type": "code",
   "execution_count": 1,
   "id": "55877e6b-2f51-4335-8cb0-44d57cc28f83",
   "metadata": {},
   "outputs": [
    {
     "name": "stdout",
     "output_type": "stream",
     "text": [
      "Query: 'cat' → Docs: [0, 2]\n",
      "Query: 'dog' → Docs: [1, 2]\n",
      "Query: 'cat dog' → Docs: [2]\n",
      "Query: 'fox' → Docs: [3]\n",
      "Query: 'unicorn' → Docs: []\n"
     ]
    }
   ],
   "source": [
    "from collections import defaultdict\n",
    "import re\n",
    "\n",
    "# ---- TRAINING ----\n",
    "\n",
    "def preprocess(text):\n",
    "    # Lowercase + simple tokenization (split by non-alphanum)\n",
    "    return re.findall(r'\\w+', text.lower())\n",
    "\n",
    "def build_inverted_index(docs):\n",
    "    \"\"\"\n",
    "    docs: list of strings (e.g., [\"The cat sat\", \"The dog barked\"])\n",
    "    returns: inverted index (word -> set of doc ids)\n",
    "    \"\"\"\n",
    "    index = defaultdict(set)\n",
    "    for doc_id, text in enumerate(docs):\n",
    "        tokens = preprocess(text)\n",
    "        for token in set(tokens):  # use set to avoid duplicate entries\n",
    "            index[token].add(doc_id)\n",
    "    return index\n",
    "\n",
    "# ---- INFERENCE ----\n",
    "\n",
    "def search(index, query):\n",
    "    \"\"\"\n",
    "    query: string, e.g., \"cat\"\n",
    "    returns: list of matching document IDs\n",
    "    \"\"\"\n",
    "    tokens = preprocess(query)\n",
    "    if not tokens:\n",
    "        return []\n",
    "    \n",
    "    # Start with the first token's postings\n",
    "    result = index.get(tokens[0], set()).copy()\n",
    "    \n",
    "    # Intersect with other token postings (AND query)\n",
    "    for token in tokens[1:]:\n",
    "        result &= index.get(token, set())\n",
    "    \n",
    "    return sorted(result)\n",
    "\n",
    "# ---- EXAMPLE USAGE ----\n",
    "\n",
    "# Sample document collection\n",
    "documents = [\n",
    "    \"The cat sat on the mat.\",\n",
    "    \"The dog barked loudly.\",\n",
    "    \"A cat and a dog became friends.\",\n",
    "    \"The quick brown fox.\"\n",
    "]\n",
    "\n",
    "# Train\n",
    "inv_index = build_inverted_index(documents)\n",
    "\n",
    "# Inference\n",
    "queries = [\"cat\", \"dog\", \"cat dog\", \"fox\", \"unicorn\"]\n",
    "\n",
    "for q in queries:\n",
    "    result = search(inv_index, q)\n",
    "    print(f\"Query: '{q}' → Docs: {result}\")"
   ]
  }
 ],
 "metadata": {
  "kernelspec": {
   "display_name": "Python 3 (ipykernel)",
   "language": "python",
   "name": "python3"
  },
  "language_info": {
   "codemirror_mode": {
    "name": "ipython",
    "version": 3
   },
   "file_extension": ".py",
   "mimetype": "text/x-python",
   "name": "python",
   "nbconvert_exporter": "python",
   "pygments_lexer": "ipython3",
   "version": "3.9.7"
  }
 },
 "nbformat": 4,
 "nbformat_minor": 5
}
