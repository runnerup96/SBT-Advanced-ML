{
  "cells": [
    {
      "cell_type": "code",
      "execution_count": null,
      "metadata": {
        "id": "HZgbF7CWBxi8"
      },
      "outputs": [],
      "source": [
        "import pandas as pd\n",
        "import numpy as np\n",
        "import implicit\n",
        "from scipy.sparse import coo_matrix\n",
        "from typing import List\n",
        "from tqdm import tqdm\n",
        "import gc\n",
        "tqdm.pandas()\n",
        "from rectools import Columns\n",
        "from rectools.metrics.ranking import NDCG, MRR, MAP\n",
        "from rectools.metrics.classification import Precision, Recall\n",
        "from rectools.metrics.serendipity import Serendipity\n",
        "from rectools.metrics.novelty import MeanInvUserFreq"
      ]
    },
    {
      "cell_type": "code",
      "execution_count": null,
      "metadata": {
        "id": "HQUm8RrkBxi-"
      },
      "outputs": [],
      "source": [
        "df = pd.read_csv(\"train_dataset.csv\")"
      ]
    },
    {
      "cell_type": "code",
      "execution_count": null,
      "metadata": {
        "id": "F_wBPTvlBxi-",
        "outputId": "ef5a7f47-8923-4587-bf03-4cadbdbbbe03"
      },
      "outputs": [
        {
          "data": {
            "text/plain": [
              "(50000000, 5)"
            ]
          },
          "execution_count": 198,
          "metadata": {},
          "output_type": "execute_result"
        }
      ],
      "source": [
        "df.shape"
      ]
    },
    {
      "cell_type": "code",
      "execution_count": null,
      "metadata": {
        "id": "cVFRAFOXBxi-",
        "outputId": "eab70630-dff9-46e0-84b1-b7c61a82d0b6"
      },
      "outputs": [
        {
          "data": {
            "text/html": [
              "<div>\n",
              "<style scoped>\n",
              "    .dataframe tbody tr th:only-of-type {\n",
              "        vertical-align: middle;\n",
              "    }\n",
              "\n",
              "    .dataframe tbody tr th {\n",
              "        vertical-align: top;\n",
              "    }\n",
              "\n",
              "    .dataframe thead th {\n",
              "        text-align: right;\n",
              "    }\n",
              "</style>\n",
              "<table border=\"1\" class=\"dataframe\">\n",
              "  <thead>\n",
              "    <tr style=\"text-align: right;\">\n",
              "      <th></th>\n",
              "      <th>event_datetime</th>\n",
              "      <th>viewer_id</th>\n",
              "      <th>video_id</th>\n",
              "      <th>title</th>\n",
              "      <th>author_name</th>\n",
              "    </tr>\n",
              "  </thead>\n",
              "  <tbody>\n",
              "    <tr>\n",
              "      <th>0</th>\n",
              "      <td>2024-03-04 22:34:36+03:00</td>\n",
              "      <td>f7cbc2c9243e442c914c37b6bca52248</td>\n",
              "      <td>1192676af5b55a3798f33336485b0de6</td>\n",
              "      <td>Сериал Дарреллы | The Durrells - 2 сезон 5 серия</td>\n",
              "      <td>Сериал Дарреллы | The Durrells</td>\n",
              "    </tr>\n",
              "    <tr>\n",
              "      <th>1</th>\n",
              "      <td>2024-03-04 09:25:38+03:00</td>\n",
              "      <td>12263c993f1c4feeab33d8fb4193c417</td>\n",
              "      <td>1192f0bbb8e7d1bfd7a732b1266a0d7f</td>\n",
              "      <td>Как разобрать коленвал снегохода буран или под...</td>\n",
              "      <td>Как отремонтировать и как ловить</td>\n",
              "    </tr>\n",
              "    <tr>\n",
              "      <th>2</th>\n",
              "      <td>2024-03-04 21:06:47+03:00</td>\n",
              "      <td>25fbc72a-b4b4-4c70-959e-010fbf88d82e</td>\n",
              "      <td>1192f0bbb8e7d1bfd7a732b1266a0d7f</td>\n",
              "      <td>Как разобрать коленвал снегохода буран или под...</td>\n",
              "      <td>Как отремонтировать и как ловить</td>\n",
              "    </tr>\n",
              "    <tr>\n",
              "      <th>3</th>\n",
              "      <td>2024-03-04 02:53:16+03:00</td>\n",
              "      <td>6ca51ef9-e673-4098-8f59-11e38eec62cc</td>\n",
              "      <td>1192f0bbb8e7d1bfd7a732b1266a0d7f</td>\n",
              "      <td>Как разобрать коленвал снегохода буран или под...</td>\n",
              "      <td>Как отремонтировать и как ловить</td>\n",
              "    </tr>\n",
              "    <tr>\n",
              "      <th>4</th>\n",
              "      <td>2024-03-04 04:38:35+03:00</td>\n",
              "      <td>a05532cf-92e7-4567-b50c-39572dcbf8e4</td>\n",
              "      <td>1192f0bbb8e7d1bfd7a732b1266a0d7f</td>\n",
              "      <td>Как разобрать коленвал снегохода буран или под...</td>\n",
              "      <td>Как отремонтировать и как ловить</td>\n",
              "    </tr>\n",
              "  </tbody>\n",
              "</table>\n",
              "</div>"
            ],
            "text/plain": [
              "              event_datetime                             viewer_id  \\\n",
              "0  2024-03-04 22:34:36+03:00      f7cbc2c9243e442c914c37b6bca52248   \n",
              "1  2024-03-04 09:25:38+03:00      12263c993f1c4feeab33d8fb4193c417   \n",
              "2  2024-03-04 21:06:47+03:00  25fbc72a-b4b4-4c70-959e-010fbf88d82e   \n",
              "3  2024-03-04 02:53:16+03:00  6ca51ef9-e673-4098-8f59-11e38eec62cc   \n",
              "4  2024-03-04 04:38:35+03:00  a05532cf-92e7-4567-b50c-39572dcbf8e4   \n",
              "\n",
              "                           video_id  \\\n",
              "0  1192676af5b55a3798f33336485b0de6   \n",
              "1  1192f0bbb8e7d1bfd7a732b1266a0d7f   \n",
              "2  1192f0bbb8e7d1bfd7a732b1266a0d7f   \n",
              "3  1192f0bbb8e7d1bfd7a732b1266a0d7f   \n",
              "4  1192f0bbb8e7d1bfd7a732b1266a0d7f   \n",
              "\n",
              "                                               title  \\\n",
              "0   Сериал Дарреллы | The Durrells - 2 сезон 5 серия   \n",
              "1  Как разобрать коленвал снегохода буран или под...   \n",
              "2  Как разобрать коленвал снегохода буран или под...   \n",
              "3  Как разобрать коленвал снегохода буран или под...   \n",
              "4  Как разобрать коленвал снегохода буран или под...   \n",
              "\n",
              "                        author_name  \n",
              "0    Сериал Дарреллы | The Durrells  \n",
              "1  Как отремонтировать и как ловить  \n",
              "2  Как отремонтировать и как ловить  \n",
              "3  Как отремонтировать и как ловить  \n",
              "4  Как отремонтировать и как ловить  "
            ]
          },
          "execution_count": 199,
          "metadata": {},
          "output_type": "execute_result"
        }
      ],
      "source": [
        "df.head()"
      ]
    },
    {
      "cell_type": "markdown",
      "metadata": {
        "id": "8WOKgwV4Bxi-"
      },
      "source": [
        "#### 0. Разделение выборки на трейн и тест\n",
        "##### Данные для тренировки и тестирования моделей рекомендательных систем важно делить по времени. Выбирается отсечка и все что до нее - это трейн, а все что после - тест"
      ]
    },
    {
      "cell_type": "code",
      "execution_count": null,
      "metadata": {
        "id": "2vD7bNwYBxi_"
      },
      "outputs": [],
      "source": [
        "# Отделить 1 день на тестирование - 16-03-2024\n",
        "test = df.query(\"event_datetime >= '2024-03-16'\")\n",
        "df = df.query(\"event_datetime < '2024-03-16'\")"
      ]
    },
    {
      "cell_type": "markdown",
      "metadata": {
        "id": "hNNk9zPxBxi_"
      },
      "source": [
        "#### 1. Alternating Least Squares (ALS)\n",
        "##### Матричное разложение на представления пользователей и айтемов с попеременным обучением каждой из матриц представлений при фиксированной второй матрице (сначала обучаем представления пользователей, фиксируя представления айтемов, потом наоборот и тд)"
      ]
    },
    {
      "cell_type": "code",
      "execution_count": null,
      "metadata": {
        "id": "0xNOilHsBxi_"
      },
      "outputs": [],
      "source": [
        "ALL_USERS = df['viewer_id'].unique().tolist()\n",
        "ALL_ITEMS = df['video_id'].unique().tolist()\n",
        "\n",
        "user_ids = dict(list(enumerate(ALL_USERS)))\n",
        "item_ids = dict(list(enumerate(ALL_ITEMS)))\n",
        "\n",
        "user_map = {u: uidx for uidx, u in user_ids.items()}\n",
        "item_map = {i: iidx for iidx, i in item_ids.items()}\n",
        "\n",
        "df['user_id'] = df['viewer_id'].map(user_map)\n",
        "df['item_id'] = df['video_id'].map(item_map)"
      ]
    },
    {
      "cell_type": "code",
      "execution_count": null,
      "metadata": {
        "id": "O87PokSEBxi_",
        "outputId": "27262058-ce2f-4905-cdab-5f031cb9b3d9"
      },
      "outputs": [
        {
          "data": {
            "text/plain": [
              "<6097098x1038746 sparse matrix of type '<class 'numpy.float64'>'\n",
              "\twith 45849018 stored elements in COOrdinate format>"
            ]
          },
          "execution_count": 35,
          "metadata": {},
          "output_type": "execute_result"
        }
      ],
      "source": [
        "row = df['user_id'].values\n",
        "col = df['item_id'].values\n",
        "data = np.ones(df.shape[0])\n",
        "coo_train = coo_matrix((data, (row, col)), shape=(len(ALL_USERS), len(ALL_ITEMS)))\n",
        "coo_train"
      ]
    },
    {
      "cell_type": "code",
      "execution_count": null,
      "metadata": {
        "colab": {
          "referenced_widgets": [
            "988dbffdee1a4157b4d1160acc5d1360"
          ]
        },
        "id": "HMeaMJDuBxjA",
        "outputId": "8f5a1756-7743-46f1-d1a3-827801ae79a2"
      },
      "outputs": [
        {
          "name": "stderr",
          "output_type": "stream",
          "text": [
            "/home/rkorst/Whispe_steve_demo/experiment/alex_klyuev/services/Speech2Text/recomendation_systems/venv_rec_sys/lib/python3.8/site-packages/implicit/utils.py:138: ParameterWarning: Method expects CSR input, and was passed coo_matrix instead. Converting to CSR took 2.6561012268066406 seconds\n",
            "  warnings.warn(\n"
          ]
        },
        {
          "data": {
            "application/vnd.jupyter.widget-view+json": {
              "model_id": "988dbffdee1a4157b4d1160acc5d1360",
              "version_major": 2,
              "version_minor": 0
            },
            "text/plain": [
              "  0%|          | 0/10 [00:00<?, ?it/s]"
            ]
          },
          "metadata": {},
          "output_type": "display_data"
        },
        {
          "name": "stdout",
          "output_type": "stream",
          "text": [
            "CPU times: user 41.3 s, sys: 340 ms, total: 41.7 s\n",
            "Wall time: 41.7 s\n"
          ]
        }
      ],
      "source": [
        "%%time\n",
        "model = implicit.als.AlternatingLeastSquares(factors=200, iterations=10)\n",
        "model.fit(coo_train)"
      ]
    },
    {
      "cell_type": "code",
      "execution_count": null,
      "metadata": {
        "id": "gZwIGo_YBxjA",
        "outputId": "cbe8b550-2a2c-47eb-8989-7437d5ea7169"
      },
      "outputs": [
        {
          "name": "stderr",
          "output_type": "stream",
          "text": [
            "45849018it [01:06, 691631.51it/s]\n"
          ]
        },
        {
          "data": {
            "text/plain": [
              "1038746"
            ]
          },
          "execution_count": 37,
          "metadata": {},
          "output_type": "execute_result"
        }
      ],
      "source": [
        "video_id_to_title = {}\n",
        "\n",
        "for row in tqdm(df.itertuples()):\n",
        "    video_id_to_title[row.video_id] = row.title\n",
        "len(video_id_to_title)"
      ]
    },
    {
      "cell_type": "code",
      "execution_count": null,
      "metadata": {
        "id": "vtFcZcz3BxjA"
      },
      "outputs": [],
      "source": [
        "def get_recs_by_als(model, video_id: str, num_candidates: int) -> List[str]:\n",
        "    video_id_to_idx = {v: k for k, v in item_ids.items()}\n",
        "    item_index = video_id_to_idx.get(video_id, None)\n",
        "    if item_index or item_index == 0:\n",
        "        # skip first recommendation because it finds the same item\n",
        "        recommendations = model.similar_items(\n",
        "            item_index, N=num_candidates, filter_items=[item_index]\n",
        "        )[0]\n",
        "    else:\n",
        "        return []\n",
        "    return list(map(lambda x: video_id_to_title[item_ids[x]], recommendations))"
      ]
    },
    {
      "cell_type": "code",
      "execution_count": null,
      "metadata": {
        "id": "p6X8bU6LBxjA",
        "outputId": "4831b11d-4ba4-494f-b1a7-40cc2582de9f"
      },
      "outputs": [
        {
          "data": {
            "text/plain": [
              "['Человек-паук: Вдали от дома | Spider-Man: Far from Home (2019)',\n",
              " 'Тор: Любовь и гром (фильм, 2022)',\n",
              " 'Тор: Рагнарёк (фильм, 2017)',\n",
              " 'Человек-паук: Возвращение домой | Spider-Man: Homecoming (2017)',\n",
              " 'Тор | Thor (2011)',\n",
              " 'Мстители: Финал (фильм, 2019)',\n",
              " 'Первый мститель | Captain America: The First Avenger (2011)',\n",
              " 'Тор: Рагнарёк | Thor: Ragnarok (2017)',\n",
              " 'Чёрная Пантера (фильм, 2018)',\n",
              " 'Красное уведомление 1 (фильм, 2021)',\n",
              " 'Мстители: Война бесконечности | Avengers: Infinity War (2018)',\n",
              " 'Мстители, 2012',\n",
              " 'Капитан Марвел 2  | Captain Marvel 2 (2023)',\n",
              " 'Тор 2: Царство тьмы | Thor: The Dark World (2013)',\n",
              " 'Чёрная Пантера: Ваканда навеки | Black Panther: Wakanda Forever (2022)',\n",
              " 'Человек-муравей и Оса: Квантомания (фильм, 2023)',\n",
              " 'Мстители: Эра Альтрона | Avengers: Age of Ultron (2015)',\n",
              " 'Первый мститель: Противостояние | Captain America: Civil War (2016)',\n",
              " 'Шан-Чи и легенда десяти колец (фильм, 2021)',\n",
              " 'Новый Человек-паук | The Amazing Spider-Man (2012)',\n",
              " 'Мстители: Финал | Avengers: Endgame (2019)',\n",
              " 'Доктор Стрэндж (фильм, 2016)',\n",
              " 'Человек-паук 1 (фильм, 2002)',\n",
              " 'Флаббер (фильм, 1997)',\n",
              " 'Доктор Стрэндж | Doctor Strange (2016)',\n",
              " 'Человек-паук: Нет пути домой (фильм, 2021)',\n",
              " 'Железный человек | Iron Man (2008)',\n",
              " 'Плохие парни 2 | Bad Boys II (2003)',\n",
              " 'Человек-муравей и Оса | Ant-Man and the Wasp (2018)',\n",
              " 'Доктор Стрэндж 2: В мультивселенной безумия (фильм, 2022)']"
            ]
          },
          "execution_count": 39,
          "metadata": {},
          "output_type": "execute_result"
        }
      ],
      "source": [
        "video_id = \"69bdad2a1ad8105c5bb8b1adc0c32bf8\" # Человек-паук: Нет пути домой | Spider-Man: No Way Home (2021)\n",
        "get_recs_by_als(model, video_id, 30)"
      ]
    },
    {
      "cell_type": "code",
      "execution_count": null,
      "metadata": {
        "id": "Sq3ZhV55BxjA",
        "outputId": "c4fc184f-90ad-4f33-b4c5-07c749bafbae"
      },
      "outputs": [
        {
          "data": {
            "text/plain": [
              "['Гарри Поттер и Кубок огня | Harry Potter and the Goblet of Fire (2005)',\n",
              " 'Гарри Поттер и Принц-полукровка | Harry Potter and the Half-Blood Prince (2009)',\n",
              " 'Гарри Поттер и Тайная комната | Harry Potter and the Chamber of Secrets (2002)',\n",
              " 'Гарри Поттер и Кубок огня 2005',\n",
              " 'Гарри Поттер и узник Азкабана| Harry Potter and the Prisoner of Azkaban (2004)',\n",
              " 'Гарри Поттер и Проклятое Дитя - Первый Трейлер (2025) По Мотивам Книги _ Концепт-версия от Тизер ПРО',\n",
              " 'Гарри Поттер и Принц-полукровка 2009',\n",
              " 'Гарри Поттер и Дары Смерти: Часть 1. 2010',\n",
              " 'Гарри Поттер и Дары смерти: Часть 1 | Harry Potter and the Deathly Hallows - Part 1 (2010)',\n",
              " 'Гарри Поттер и Проклятое Дитя - Первый (2025)',\n",
              " 'Гарри Поттер и узник Азкабана (фильм, 2004, 3 часть)',\n",
              " \"Гарри Поттер и философский камень | Harry Potter and the Sorcerer's Stone (2001)\",\n",
              " 'Гарри Поттер и Кубок огня (фильм, 2005, 4 часть)',\n",
              " 'Гарри Поттер и Орден Феникса (фильм, 2007, 5 часть)',\n",
              " 'Гарри Поттер 20 лет спустя: Возвращение в Хогвартс | Harry Potter 20th Anniversary: Return to (2022)',\n",
              " 'Гарри Поттер и философский камень (2001)',\n",
              " 'Гарри Поттер и Дары Смерти: Часть 2. 2011',\n",
              " 'Как настроить личный кабинет Заказчика',\n",
              " 'Гарри Поттер и Тайная комната (2002)',\n",
              " 'Гарри Поттер и Дары смерти: Часть 2 | Harry Potter and the Deathly Hallows - Part 2 (2011)',\n",
              " 'Гарри Поттер и узник Азкабана (Фильм,2004)',\n",
              " 'Гарри Поттер и Дары Смерти: Часть 2 (Фильм,2011)',\n",
              " 'ВСЕ ВЫРЕЗАННЫЕ СЦЕНЫ - Гарри Поттер и Принц-полукровка (2009)',\n",
              " 'Гарри Поттер и Орден Феникса 2007',\n",
              " 'Гарри Поттер и узник Азкабана (2004)',\n",
              " 'ВАН ХЕЛЬСИНГ интересные факты — Хью Джекман истребитель вампиров',\n",
              " 'ВЕЛИКИЙ ГЭТСБИ интересные факты о фильме',\n",
              " 'Гарри Поттер и Философский камень За кадром',\n",
              " 'Гарри Поттер и Принц-полукровка (фильм, 2009, 6 часть)',\n",
              " '8 - Гарри Поттер и Дары Смерти. Часть 2.\\nHarry.Potter.and.the.Deathly.Hallows-Part.2.2011']"
            ]
          },
          "execution_count": 40,
          "metadata": {},
          "output_type": "execute_result"
        }
      ],
      "source": [
        "video_id = \"95c71e40cd1148b95d7a057fe3718866\" # Гарри Поттер и Орден Феникса | Harry Potter and the Order of the Phoenix (2007)\n",
        "get_recs_by_als(model, video_id, 30)"
      ]
    },
    {
      "cell_type": "code",
      "execution_count": null,
      "metadata": {
        "id": "yIpAdC6FBxjA",
        "outputId": "011bd5cb-549c-4533-bed2-cecfe23a1582"
      },
      "outputs": [
        {
          "data": {
            "text/plain": [
              "['Смешарики, 1 серия',\n",
              " 'Смешарики, 3 серия',\n",
              " 'Смешарики, 6 серия',\n",
              " 'Смешарики, 17 серия',\n",
              " 'Смешарики 2D, 5 сезон, 35 серия',\n",
              " 'Смешарики, 11 серия',\n",
              " 'Смешарики 2D, 5 сезон, 52 серия',\n",
              " 'Смешарики, 8 серия',\n",
              " 'Смешарики, 23 серия',\n",
              " 'Смешарики, 12 серия',\n",
              " 'Смешарики. Клипы. Тик-так, 15 серия',\n",
              " 'Смешарики 2D, 6 сезон, 4 серия. Жажда',\n",
              " 'Смешарики, 21 серия',\n",
              " 'Смешарики 2D, 6 сезон, 1 серия. Паранормальное приключение',\n",
              " 'Монсики, Ролик Наушники',\n",
              " 'Супер Зак, 2 сезон, 2 серия. Бежим! Рон-Молния!',\n",
              " 'Фиксики, 90 серия',\n",
              " 'Фиксики, 34 серия',\n",
              " 'Смешарики 2D, 6 сезон, 23 серия. Окрошка',\n",
              " 'Смешарики 2D, 6 сезон, 3 серия. Гусений',\n",
              " 'Фиксики, 99 серия',\n",
              " 'Смешарики, 7 серия',\n",
              " 'Смешарики 2D, 5 сезон, 3 серия',\n",
              " 'Смешарики, 4 серия',\n",
              " 'Фиксики, 199 серия',\n",
              " 'Мультик про Машинки - Экскаватор, Бульдозер, Бетономешалка и Самосвал. МанкиМульт',\n",
              " 'Фиксики, 104 серия',\n",
              " 'Школа Шишкиного Леса. Рукоделие. Игрушка-мобиль',\n",
              " 'Зебра в клеточку -  28 серия. Новый год - Союзмультфильм HD',\n",
              " 'Фиксики, 83 серия']"
            ]
          },
          "execution_count": 41,
          "metadata": {},
          "output_type": "execute_result"
        }
      ],
      "source": [
        "video_id = \"00256d60056a0251fb0e71464536bc50\" # Смешарики, 2 серия\n",
        "get_recs_by_als(model, video_id, 30)"
      ]
    },
    {
      "cell_type": "code",
      "execution_count": null,
      "metadata": {
        "id": "0bLCc6QgBxjA",
        "outputId": "23b4ccba-d2cc-48f9-a9dd-aaee1307514d"
      },
      "outputs": [
        {
          "data": {
            "text/plain": [
              "['Сочи - Балтика. Обзор матча Мир РПЛ 23.07.2023',\n",
              " 'ЦСКА - Динамо. Обзор матча МИР РПЛ 25.11.2023',\n",
              " 'ПСО-13 - Пульсар | Золотой плей-офф| 1/8 финала',\n",
              " 'ЦСКА - Оренбург. Обзор матча Мир РПЛ 02.03.2024',\n",
              " 'Ростов - Крылья Советов. Обзор матча Мир РПЛ 01.03.2024',\n",
              " 'Спартак - ЦСКА. Обзор матча МИР РПЛ 08.10.2023',\n",
              " 'Крылья Советов - ЦСКА. Обзор матча Мир РПЛ 08.03.2024',\n",
              " 'Краснодар - Рубин. Обзор матча Мир РПЛ 02.03.2024',\n",
              " 'Ростов - Краснодар. Обзор матча Мир РПЛ 08.03.2024',\n",
              " 'Ахмат - Урал. Обзор матча Мир РПЛ 02.03.2024',\n",
              " 'Крылья Советов - Ростов. Обзор матча Мир РПЛ 05.08.2023',\n",
              " 'Краснодар - Ростов. Обзор матча МИР РПЛ 07.10.2023',\n",
              " 'Химки - Краснодар. Обзор матча FONBET Кубка России 12.03.2024',\n",
              " 'Локомотив - Балтика. Обзор матча FONBET Кубка России 14.03.2024',\n",
              " 'Динамо - Ахмат. Обзор матча Мир РПЛ 09.03.2024',\n",
              " 'Зенит - Спартак. Обзор матча Мир РПЛ 02.03.2024',\n",
              " 'Урал - Зенит. Обзор матча Мир РПЛ 09.03.2024',\n",
              " '«Что за спорт». Выпуск от 20.02.2024',\n",
              " 'Рубин - Пари НН. Обзор матча Мир РПЛ 09.03.2024',\n",
              " 'Обзор матча «Спартак» – «Крылья Советов» | Мир РПЛ 2023/24',\n",
              " 'Пари НН - Факел. Обзор матча Мир РПЛ 03.03.2024',\n",
              " 'Локомотив - Сочи. Обзор матча Мир РПЛ 10.03.2024',\n",
              " 'Ростов - ЦСКА.  Обзор матча МИР РПЛ 24.09.2023',\n",
              " 'Зенит - Краснодар. Обзор матча МИР РПЛ 11.11.2023',\n",
              " 'Оренбург - Балтика. Обзор матча Мир РПЛ 10.03.2024',\n",
              " 'Спартак - Оренбург. Обзор матча FONBET Кубка России 14.03.2024',\n",
              " 'ЦСКА - Ростов. Обзор матча FONBET Кубка России 12.03.2024',\n",
              " 'Локомотив - Рубин. Все голы женской Суперлиги 09.03.2024',\n",
              " 'СКА-Хабаровск - Сочи. Обзор матча FONBET Кубка России 14.03.2024',\n",
              " 'Рубин - Спартак. Обзор матча Мир РПЛ 05.08.2023']"
            ]
          },
          "execution_count": 42,
          "metadata": {},
          "output_type": "execute_result"
        }
      ],
      "source": [
        "video_id = \"72b83e3fdefb9d5492b693a4c654ef10\" # Спартак - Зенит. Обзор матча МИР РПЛ 20.08.2023\n",
        "get_recs_by_als(model, video_id, 30)"
      ]
    },
    {
      "cell_type": "code",
      "execution_count": null,
      "metadata": {
        "id": "JhfWKfGrBxjA",
        "outputId": "2c5f6509-a7a5-4091-de27-2187b68620cd"
      },
      "outputs": [
        {
          "data": {
            "text/plain": [
              "['Comedy Club: Случай в самолёте | Карибидис, Батрутдинов',\n",
              " 'Comedy Club: Барды | Харламов, Батрутдинов',\n",
              " 'Comedy Club: Устройся на работу  | Марина Кравец, Демис Карибидис,  Костя Бутусов',\n",
              " 'Comedy Club: Робот | Демис Карибидис, Тимур Батрутдинов, Гарик Харламов',\n",
              " 'Comedy Club: Утро после корпоратива | Харламов, Карибидис, Батрутдинов, Аверин, Скороход',\n",
              " 'Comedy Club: Романтический ужин | Карибидис, Кравец, Скороход, Темичева',\n",
              " 'Comedy Club: Счастливый муж | Демис Карибидис, Марина Кравец',\n",
              " 'Comedy Club: Развел девушку | Гарик Харламов, Костя Бутусов, Катя Шкуро',\n",
              " 'Comedy Club: Cумасшедший начальник | Харламов, Батрутдинов, Бутусов, Шкуро, Шальнов',\n",
              " 'Comedy Club: Писательница | Демис Карибидис, Марина Кравец',\n",
              " 'Comedy Club: Новогодний корпоратив | Кравец, Карибидис, Батрутдинов',\n",
              " 'Comedy Club: Женщина-абьюзер | Марина Кравец, Демис Карибидис, Тимур Батрутдинов, Костя Бутусов',\n",
              " 'Comedy Club: Завещание | Гарик Харламов, Марина Федункив, Алексей Шальнов',\n",
              " 'Comedy Club: Дотошная девушка | Иванов, Бутусов, Сафонов',\n",
              " 'Comedy Club: Андрей Бебуришвили - понты',\n",
              " 'Comedy Club: Турагент | Демис Карибидис, Тимур Батрутдинов',\n",
              " 'Comedy Club: Азартные люди | Андрей Бебуришвили',\n",
              " 'Comedy Club: Истинные мысли | Кравец, Аверин, Матуа, Сорокин, Иванов, Бутусов',\n",
              " 'Comedy Club: Конфетка | Никитин, Цой, Блохина, Арутюнов',\n",
              " 'Камеди Клаб | «Экономика» | Гарик Харламов, Демис Карибидис',\n",
              " 'Comedy Club: Я из будущего - Демис Карибидис, Марина Кравец, Тимур Батрутдинов',\n",
              " 'Comedy Club: Мотиваторы | Женя Синяков',\n",
              " 'Артисты Comedy Club - Онлайн-совещание',\n",
              " 'Камеди Клаб | Новый сезон | «Чебурашка» | Демис Карибидис, Тимур Батрутдинов',\n",
              " 'Камеди Клаб «Семейный психолог» Гарик Харламов, Марина Кравец, Марина Федункив',\n",
              " 'Камеди Клаб | Новый сезон | «Доклад наверх» | Харламов, Батрутдинов, Бутусов, Иванов, Кравец',\n",
              " 'Comedy Club: Гуру брака  | Иван Половинкин',\n",
              " 'Камеди Клаб | «Еврокомиссия»',\n",
              " 'Comedy Club: Такер Карлсон | Карибидис, Батрутдинов, Шальнов',\n",
              " 'Comedy Club: Простите меня | Гарик Харламов, Тимур Батрутдинов']"
            ]
          },
          "execution_count": 43,
          "metadata": {},
          "output_type": "execute_result"
        }
      ],
      "source": [
        "video_id = \"52adf40199ec58315a17826835b0b03a\" # Comedy Club: Управляющая компания | Карибидис, Батрутдинов\n",
        "get_recs_by_als(model, video_id, 30)"
      ]
    },
    {
      "cell_type": "markdown",
      "metadata": {
        "id": "U6s0RvSMBxjA"
      },
      "source": [
        "#### 2. Ассоциативные правила\n",
        "##### Подсчет совстречаемостей айтемов вместе в сессиях пользователей и нормировка этих совстречаемостей на безотносительную встречаемость айтемов"
      ]
    },
    {
      "cell_type": "code",
      "execution_count": null,
      "metadata": {
        "id": "SDhEzVPEBxjB",
        "outputId": "1f27da06-1f85-4cac-eb95-d81c67d514ad"
      },
      "outputs": [
        {
          "name": "stderr",
          "output_type": "stream",
          "text": [
            "100%|██████████| 45849018/45849018 [00:45<00:00, 1008677.92it/s]\n"
          ]
        }
      ],
      "source": [
        "# preprocess date\n",
        "df['date_short'] = df.event_datetime.progress_apply(lambda l: l.split(\" \")[0])"
      ]
    },
    {
      "cell_type": "code",
      "execution_count": null,
      "metadata": {
        "id": "kA2GD8S1BxjB",
        "outputId": "6bd4ccf4-94be-48c6-b2f1-ba05b06547b6"
      },
      "outputs": [
        {
          "name": "stdout",
          "output_type": "stream",
          "text": [
            "CPU times: user 27.1 s, sys: 1.3 s, total: 28.4 s\n",
            "Wall time: 28.4 s\n"
          ]
        }
      ],
      "source": [
        "%%time\n",
        "groupby = df.groupby([\"user_id\", \"date_short\"]).count()\n",
        "users_active = groupby[groupby['item_id'] >= 2].index.unique()"
      ]
    },
    {
      "cell_type": "code",
      "execution_count": null,
      "metadata": {
        "id": "M6byrXk6BxjB"
      },
      "outputs": [],
      "source": [
        "users_active = set(users_active)"
      ]
    },
    {
      "cell_type": "code",
      "execution_count": null,
      "metadata": {
        "id": "yAHz3R37BxjB",
        "outputId": "409f6393-0cbb-4b37-a9be-2f561f0f1c85"
      },
      "outputs": [
        {
          "name": "stderr",
          "output_type": "stream",
          "text": [
            "100%|██████████| 45849018/45849018 [10:10<00:00, 75050.20it/s]\n"
          ]
        }
      ],
      "source": [
        "df['active'] = df.progress_apply(lambda l: True if (l.user_id, l.date_short) in users_active else False, axis=1)\n",
        "df=df[df.active]"
      ]
    },
    {
      "cell_type": "code",
      "execution_count": null,
      "metadata": {
        "id": "h_nx8LxaBxjB"
      },
      "outputs": [],
      "source": [
        "def calc_pairs(train):\n",
        "    print(\"Get sessions\")\n",
        "    dt = train.groupby(['user_id', 'date_short'])['item_id'].agg(list).rename('pair').reset_index()\n",
        "    df = train[['user_id', 'date_short', 'item_id']].merge(dt, on=['user_id', 'date_short'], how='left')\n",
        "\n",
        "    del dt\n",
        "    gc.collect()\n",
        "\n",
        "    # Explode the rows vs list of articles\n",
        "    print(\"Explode the rows vs list of articles\")\n",
        "    df = df[['item_id', 'pair']].explode(column='pair')\n",
        "    gc.collect()\n",
        "\n",
        "    print(\"Discard duplicates\")\n",
        "    df = df.loc[df['item_id'] != df['pair']].reset_index(drop=True)\n",
        "\n",
        "    print(\"Count how many times each pair combination happens\")\n",
        "    df = df.groupby(['item_id', 'pair']).size().rename('count').reset_index()\n",
        "\n",
        "    df['score'] = df.apply(lambda l: l['count'], axis=1)\n",
        "    df.sort_values(by=['score'], ascending=False, inplace=True)\n",
        "    gc.collect()\n",
        "    return df"
      ]
    },
    {
      "cell_type": "code",
      "execution_count": null,
      "metadata": {
        "id": "LAgDJQFCBxjB",
        "outputId": "f8811c87-0f6a-4767-877b-28505e074dcd"
      },
      "outputs": [
        {
          "name": "stdout",
          "output_type": "stream",
          "text": [
            "Get sessions\n",
            "Explode the rows vs list of articles\n",
            "Discard duplicates\n",
            "Count how many times each pair combination happens\n",
            "CPU times: user 17min, sys: 1min 3s, total: 18min 4s\n",
            "Wall time: 18min 3s\n"
          ]
        }
      ],
      "source": [
        "%%time\n",
        "rules = calc_pairs(df[['user_id', 'item_id', 'date_short']])"
      ]
    },
    {
      "cell_type": "code",
      "execution_count": null,
      "metadata": {
        "id": "nrWBoWuIBxjB"
      },
      "outputs": [],
      "source": [
        "rules.to_csv(\"rules_3.csv\", index=False)"
      ]
    },
    {
      "cell_type": "code",
      "execution_count": null,
      "metadata": {
        "id": "teemPutWBxjB"
      },
      "outputs": [],
      "source": [
        "rules = pd.read_csv(\"rules_3.csv\")"
      ]
    },
    {
      "cell_type": "code",
      "execution_count": null,
      "metadata": {
        "id": "nh32nzLJBxjB"
      },
      "outputs": [],
      "source": [
        "def get_recs_by_i2i(rules, video_id: str, num_candidates: int) -> List[str]:\n",
        "    video_id_to_idx = {v: k for k, v in item_ids.items()}\n",
        "    item_index = video_id_to_idx.get(video_id, None)\n",
        "    if item_index or item_index == 0:\n",
        "        # skip first recommendation because it finds the same item\n",
        "        recommendations = rules[rules.item_id==item_index].pair.to_list()[:num_candidates]\n",
        "    else:\n",
        "        return []\n",
        "    return list(map(lambda x: video_id_to_title[item_ids[x]], recommendations))"
      ]
    },
    {
      "cell_type": "code",
      "execution_count": null,
      "metadata": {
        "id": "QbRY6uCKBxjC",
        "outputId": "b6a44e0d-5665-4836-e3d1-75bbfb9d35f5"
      },
      "outputs": [
        {
          "data": {
            "text/plain": [
              "['Человек-паук: Вдали от дома | Spider-Man: Far from Home (2019)',\n",
              " 'Человек-паук: Возвращение домой | Spider-Man: Homecoming (2017)',\n",
              " 'Человек-паук: Нет пути домой (фильм, 2021)',\n",
              " 'Новый Человек-паук: Высокое напряжение | The Amazing Spider-Man 2 (2014)',\n",
              " 'Доктор Стрэндж 2: В мультивселенной безумия (фильм, 2022)',\n",
              " 'Новый Человек-паук | The Amazing Spider-Man (2012)',\n",
              " 'Мстители: Война бесконечности (фильм, 2018)',\n",
              " 'Человек-паук 3: Враг в отражении | Spider-Man 3 (2007)',\n",
              " 'Веном 2 (фильм, 2021)',\n",
              " 'Человек-паук: Через вселенные | Spider-Man: Into the Spider-Verse (2018)',\n",
              " 'Человек Паук 4 - Официальный Трейлер (2025)',\n",
              " 'Выжить в Самарканде, 1 сезон, 8 выпуск. ФИНАЛ',\n",
              " 'Мстители: финал (фильм, 2019, 4 часть)',\n",
              " 'Человек-паук 1 (фильм, 2002)',\n",
              " 'Человек-паук: Через вселенные (мультфильм, 2018)',\n",
              " 'Человек-паук: Паутина вселенных | Spider-Man: Across the Spider-Verse (2023)',\n",
              " 'Тор: Любовь и гром (фильм, 2022)',\n",
              " 'Мстители: Финал | Avengers: Endgame (2019)',\n",
              " 'Железный человек 2008',\n",
              " 'Человек-паук: Паутина вселенных (мультфильм, 2023)',\n",
              " 'ЧЕЛОВЕК-ПАУК. НОВЫЙ ДОМ (2023) - Полный фильм смотреть онлайн бесплатно',\n",
              " 'Доктор Стрэндж: В мультивселенной безумия | Doctor Strange in the Multiverse of Madness (2022)',\n",
              " 'Человек-паук 2 (фильм, 2004)',\n",
              " 'Капитан Марвел 2  | Captain Marvel 2 (2023)',\n",
              " 'Прямой эфир ТНТ',\n",
              " 'Тор: Рагнарёк | Thor: Ragnarok (2017)',\n",
              " 'Мультсериал Человек-паук | Spider-Man 1994-1998 - 5 сезон 1 серия',\n",
              " 'Доктор Стрэндж | Doctor Strange (2016)',\n",
              " 'Первый канал. Прямой эфир',\n",
              " 'Человек-паук: Нет пути домой (фильм, 2021)']"
            ]
          },
          "execution_count": 141,
          "metadata": {},
          "output_type": "execute_result"
        }
      ],
      "source": [
        "video_id = \"69bdad2a1ad8105c5bb8b1adc0c32bf8\" # Человек-паук: Нет пути домой | Spider-Man: No Way Home (2021)\n",
        "get_recs_by_i2i(rules, video_id, 30)"
      ]
    },
    {
      "cell_type": "code",
      "execution_count": null,
      "metadata": {
        "id": "miXewzdBBxjC",
        "outputId": "ca34d153-bde5-457d-8e33-0feb54d75c86"
      },
      "outputs": [
        {
          "data": {
            "text/plain": [
              "['Гарри Поттер и Принц-полукровка | Harry Potter and the Half-Blood Prince (2009)',\n",
              " 'Гарри Поттер и Кубок огня | Harry Potter and the Goblet of Fire (2005)',\n",
              " 'Гарри Поттер и Принц-полукровка (фильм, 2009, 6 часть)',\n",
              " 'Гарри Поттер и узник Азкабана| Harry Potter and the Prisoner of Azkaban (2004)',\n",
              " 'Гарри Поттер и Кубок огня (фильм, 2005, 4 часть)',\n",
              " 'Гарри Поттер и Принц-полукровка 2009',\n",
              " 'Гарри Поттер и Кубок огня 2005',\n",
              " 'Гарри Поттер и Дары Смерти: Часть I (фильм, 2010, 7 часть)',\n",
              " 'Гарри Поттер и Тайная комната | Harry Potter and the Chamber of Secrets (2002)',\n",
              " 'Гарри Поттер и узник Азкабана (фильм, 2004, 3 часть)',\n",
              " 'Гарри Поттер и узник Азкабана (2004)',\n",
              " 'Гарри Поттер и философский камень (фильм, 2001, 1 часть)',\n",
              " 'Гарри Поттер и Дары смерти: Часть 2 | Harry Potter and the Deathly Hallows - Part 2 (2011)',\n",
              " 'Гарри Поттер и Тайная комната (2002)',\n",
              " 'Гарри Поттер и Дары смерти: Часть 1 | Harry Potter and the Deathly Hallows - Part 1 (2010)',\n",
              " 'Гарри Поттер и Орден Феникса (фильм, 2007, 5 часть)',\n",
              " 'Гарри Поттер и Дары Смерти: Часть II (фильм, 2011, 8 часть)',\n",
              " \"Гарри Поттер и философский камень | Harry Potter and the Sorcerer's Stone (2001)\",\n",
              " 'Гарри Поттер и Орден Феникса 2007',\n",
              " 'Гарри Поттер и Дары Смерти: Часть 1. 2010',\n",
              " 'Гарри Поттер и Проклятое Дитя - Первый Трейлер (2025) По Мотивам Книги _ Концепт-версия от Тизер ПРО',\n",
              " 'Гарри Поттер и Тайная комната (фильм, 2002, 2 часть)',\n",
              " 'Прямой эфир ТНТ',\n",
              " 'Сокровища императора, 1 выпуск',\n",
              " 'Гарри Поттер и Проклятое Дитя\\nТРЕЙЛЕР',\n",
              " 'Гарри Поттер и проклятое дитя ( трейлер)',\n",
              " 'Гарри Поттер 20 лет спустя: Возвращение в Хогвартс | Harry Potter 20th Anniversary: Return to (2022)',\n",
              " 'Экстрасенсы. Реванш, 1 сезон, 9 выпуск',\n",
              " 'Гарри Поттер и Проклятое Дитя - Первый Трейлер (2025) По Мотивам Книги | Концепт-версия от Тизер.mp4',\n",
              " 'Гарри Поттер и Дары Смерти: Часть 2. 2011']"
            ]
          },
          "execution_count": 190,
          "metadata": {},
          "output_type": "execute_result"
        }
      ],
      "source": [
        "video_id = \"95c71e40cd1148b95d7a057fe3718866\" # Гарри Поттер и Орден Феникса | Harry Potter and the Order of the Phoenix (2007)\n",
        "get_recs_by_i2i(rules, video_id, 30)"
      ]
    },
    {
      "cell_type": "code",
      "execution_count": null,
      "metadata": {
        "id": "wdGlOkPoBxjC",
        "outputId": "5594f94e-0c46-44e2-80e8-0d9ff8f32e5e"
      },
      "outputs": [
        {
          "data": {
            "text/plain": [
              "['Смешарики, 1 серия',\n",
              " 'Смешарики, 3 серия',\n",
              " 'Смешарики, 4 серия',\n",
              " 'Смешарики, 5 серия',\n",
              " 'Смешарики, 6 серия',\n",
              " 'Смешарики, 7 серия',\n",
              " 'Смешарики, 8 серия',\n",
              " 'Смешарики, 9 серия',\n",
              " 'Смешарики, 10 серия',\n",
              " 'Смешарики, 11 серия',\n",
              " 'Смешарики, 12 серия',\n",
              " 'Смешарики, 13 серия',\n",
              " 'Смешарики, 14 серия',\n",
              " 'Смешарики, 15 серия',\n",
              " 'Смешарики, 17 серия',\n",
              " 'Смешарики, 16 серия',\n",
              " 'Смешарики, 18 серия',\n",
              " 'Смешарики, 19 серия',\n",
              " 'Смешарики 2D, 6 сезон, 29 серия. Ляпус фикус хряпус',\n",
              " 'Смешарики, 21 серия',\n",
              " 'Смешарики, 20 серия',\n",
              " 'Смешарики, 22 серия',\n",
              " 'Смешарики, 23 серия',\n",
              " 'Смешарики, 25 серия',\n",
              " 'Тима и Тома, 3 сезон, 51 серия. Подружка',\n",
              " 'Смешарики, 208 серия',\n",
              " 'Дракошия, 37 серия. Волшебные бусы',\n",
              " 'Смешарики, 24 серия',\n",
              " 'Смешарики 2D, 6 сезон, 48 серия. Копатыч и волна',\n",
              " 'Смешарики, 28 серия']"
            ]
          },
          "execution_count": 192,
          "metadata": {},
          "output_type": "execute_result"
        }
      ],
      "source": [
        "video_id = \"00256d60056a0251fb0e71464536bc50\" # Смешарики, 2 серия\n",
        "get_recs_by_i2i(rules, video_id, 30)"
      ]
    },
    {
      "cell_type": "code",
      "execution_count": null,
      "metadata": {
        "id": "hy_uT2CvBxjC",
        "outputId": "bb3ae5ab-a078-4535-c762-edf5f5e5a3e3"
      },
      "outputs": [
        {
          "data": {
            "text/plain": [
              "['Зенит - Спартак. Обзор матча Мир РПЛ 02.03.2024',\n",
              " 'Динамо - Локомотив. Обзор матча Мир РПЛ 03.03.2024',\n",
              " 'Спартак - Факел. Обзор матча Мир РПЛ 10.03.2024',\n",
              " 'Ростов - Краснодар. Обзор матча Мир РПЛ 08.03.2024',\n",
              " 'Урал - Зенит. Обзор матча Мир РПЛ 09.03.2024',\n",
              " 'Спартак - ЦСКА. Обзор матча МИР РПЛ 08.10.2023',\n",
              " 'Зенит - Спартак. Обзор матча FONBET Кубка России 27.11.2022',\n",
              " 'Краснодар - Ростов. Обзор матча МИР РПЛ 07.10.2023',\n",
              " 'Крылья Советов - ЦСКА. Обзор матча Мир РПЛ 08.03.2024',\n",
              " '«Микс тура»: эмоции 30-го тура РПЛ',\n",
              " 'Факел - Спартак. Обзор матча Мир РПЛ 28.10.2023',\n",
              " 'Спартак - Динамо. Обзор матча МИР РПЛ 23.09.2023',\n",
              " 'Наполи - Ювентус. Обзор матча чемпионата Италии 03.03.2024',\n",
              " 'Бавария - Лацио. Обзор матча Лиги чемпионов 05.03.2024',\n",
              " 'Реал Сосьедад - ПСЖ. Обзор матча Лиги чемпионов 05.03.2024',\n",
              " 'Пари НН - Факел. Обзор матча Мир РПЛ 03.03.2024',\n",
              " 'Рубин - Спартак. Обзор матча Мир РПЛ 05.08.2023',\n",
              " 'Россия - Куба. Обзор товарищеского матча 20.11.2023',\n",
              " 'Зенит - Спартак - 3:1. Обзор матча, Тинькофф РПЛ, 19 тур 16.12.2020',\n",
              " 'Ахмат - Урал. Обзор матча Мир РПЛ 02.03.2024',\n",
              " 'Спартак - Ахмат. Обзор матча МИР РПЛ 26.08.2023',\n",
              " 'Крылья Советов - Спартак. Обзор матча МИР РПЛ 01.10.2023',\n",
              " 'ЦСКА - Оренбург. Обзор матча Мир РПЛ 02.03.2024',\n",
              " '«Динамо» — «Локомотив». Обзор матча 19-го тура Мир РПЛ 3.03.24',\n",
              " 'Ростов - Крылья Советов. Обзор матча Мир РПЛ 01.03.2024',\n",
              " 'Балтика - Сочи. Обзор матча Мир РПЛ 03.03.2024',\n",
              " 'Рубин - Пари НН. Обзор матча Мир РПЛ 09.03.2024',\n",
              " 'Байер - Вольфсбург. Обзор матча чемпионата Германии 10.03.2024',\n",
              " 'Все напоминает Германию 30-х годов: германист Камкин о возможной войне ФРГ с Россией',\n",
              " 'Финал Кубка России, ЦСКА - \"Локомотив\": за кадром']"
            ]
          },
          "execution_count": 193,
          "metadata": {},
          "output_type": "execute_result"
        }
      ],
      "source": [
        "video_id = \"72b83e3fdefb9d5492b693a4c654ef10\" # Спартак - Зенит. Обзор матча МИР РПЛ 20.08.2023\n",
        "get_recs_by_i2i(rules, video_id, 30)"
      ]
    },
    {
      "cell_type": "code",
      "execution_count": null,
      "metadata": {
        "id": "R4CsFmL0BxjC",
        "outputId": "cb26a9e1-4d09-46f8-d1d8-92df2ac6713b"
      },
      "outputs": [
        {
          "data": {
            "text/plain": [
              "['Comedy Club: Случай в самолёте | Карибидис, Батрутдинов',\n",
              " 'Comedy Club: Такер Карлсон | Карибидис, Батрутдинов, Шальнов',\n",
              " 'Comedy Club: Барды | Харламов, Батрутдинов',\n",
              " 'Comedy Club: Романтический ужин | Карибидис, Кравец, Скороход, Темичева',\n",
              " 'Comedy Club: 8 марта | Павел Воля',\n",
              " 'Comedy Club: Утро после корпоратива | Харламов, Карибидис, Батрутдинов, Аверин, Скороход',\n",
              " 'Comedy Club: Робот | Демис Карибидис, Тимур Батрутдинов, Гарик Харламов',\n",
              " 'Comedy Club: Дотошная девушка | Иванов, Бутусов, Сафонов',\n",
              " 'Comedy Club: Счастливый муж | Демис Карибидис, Марина Кравец',\n",
              " 'Comedy Club: Новогодний корпоратив | Кравец, Карибидис, Батрутдинов',\n",
              " 'Comedy Club: Витя Альварес в караоке | Карибидис, Аверин, Сорокин, Матуа, Бутусов, Торнике',\n",
              " 'Камеди Клаб | Новый сезон | «Кастинг на Евровидение 2023» | Гарик Харламов, Демис Карибидис',\n",
              " 'Камеди Клаб, 1 сезон, 1 выпуск',\n",
              " 'Comedy Club: Cумасшедший начальник | Харламов, Батрутдинов, Бутусов, Шкуро, Шальнов',\n",
              " 'Comedy Club: Устройся на работу  | Марина Кравец, Демис Карибидис,  Костя Бутусов',\n",
              " 'Comedy Club: Конфетка | Никитин, Цой, Блохина, Арутюнов',\n",
              " 'Comedy Club: Я из будущего - Демис Карибидис, Марина Кравец, Тимур Батрутдинов',\n",
              " 'Comedy Club: Азартные люди | Андрей Бебуришвили',\n",
              " 'Комеди Клаб. Дайджесты 2023, 23 сезон, 10 выпуск',\n",
              " 'Гарик Харламов - Звонок родителям',\n",
              " 'Comedy Club: Поездка на Бали | Костя Бутусов, Катя Шкуро',\n",
              " 'Comedy Club: Развел девушку | Гарик Харламов, Костя Бутусов, Катя Шкуро',\n",
              " 'Comedy Club: Женщина-абьюзер | Марина Кравец, Демис Карибидис, Тимур Батрутдинов, Костя Бутусов',\n",
              " 'Комеди Клаб. Дайджесты 2024, 1 сезон, 2 выпуск',\n",
              " 'Comedy Club: Андрей Бебуришвили - понты',\n",
              " 'Comedy Club: Мотиваторы | Женя Синяков',\n",
              " 'Comedy Club: Если бы страны были женщинами',\n",
              " 'Comedy Club: Завещание | Гарик Харламов, Марина Федункив, Алексей Шальнов',\n",
              " 'Камеди Клаб | Новый сезон | «Доклад наверх» | Харламов, Батрутдинов, Бутусов, Иванов, Кравец',\n",
              " 'Однажды в России: Двойное свидание']"
            ]
          },
          "execution_count": 194,
          "metadata": {},
          "output_type": "execute_result"
        }
      ],
      "source": [
        "video_id = \"52adf40199ec58315a17826835b0b03a\" # Comedy Club: Управляющая компания | Карибидис, Батрутдинов\n",
        "get_recs_by_i2i(rules, video_id, 30)"
      ]
    },
    {
      "cell_type": "markdown",
      "metadata": {
        "id": "U2jtlWmrBxjC"
      },
      "source": [
        "#### 3. Метрики качества\n",
        "##### Рассчитаем метрики HitRate@10, NDCG@10, Precision@10, Recall@10, MRR@10, Serendipity@10, Novelty@10, UniqueChannels@10"
      ]
    },
    {
      "cell_type": "code",
      "execution_count": null,
      "metadata": {
        "id": "EPCDplLYBxjC"
      },
      "outputs": [],
      "source": [
        "# Для каждого пользователя в тесте найдем его последнее просмотренное видео из трейна - делаем такой столбец\n",
        "# Притягиваем к нему с помощью als рекомендации и также с помощью ассоциативных правил\n",
        "# Делаем такие столбцы: viewer_id | last_video_id_train | target_list | als_recs | i2i_recs"
      ]
    },
    {
      "cell_type": "code",
      "execution_count": null,
      "metadata": {
        "id": "FXw8S1hHBxjC",
        "outputId": "1f59fa0e-c030-41a3-ea14-da691663e958"
      },
      "outputs": [
        {
          "data": {
            "text/html": [
              "<div>\n",
              "<style scoped>\n",
              "    .dataframe tbody tr th:only-of-type {\n",
              "        vertical-align: middle;\n",
              "    }\n",
              "\n",
              "    .dataframe tbody tr th {\n",
              "        vertical-align: top;\n",
              "    }\n",
              "\n",
              "    .dataframe thead th {\n",
              "        text-align: right;\n",
              "    }\n",
              "</style>\n",
              "<table border=\"1\" class=\"dataframe\">\n",
              "  <thead>\n",
              "    <tr style=\"text-align: right;\">\n",
              "      <th></th>\n",
              "      <th>viewer_id</th>\n",
              "      <th>last_video_id_train</th>\n",
              "    </tr>\n",
              "  </thead>\n",
              "  <tbody>\n",
              "    <tr>\n",
              "      <th>0</th>\n",
              "      <td>00000666-2e86-4a04-bc49-2147c71fd754</td>\n",
              "      <td>47fdcea70b5c3002b5601dedd7aa4db7</td>\n",
              "    </tr>\n",
              "    <tr>\n",
              "      <th>1</th>\n",
              "      <td>000014d1-038a-46bb-8d01-82cd6837bd5c</td>\n",
              "      <td>a23e3b7aaa8d3aeb5ae4192aa3228ef4</td>\n",
              "    </tr>\n",
              "    <tr>\n",
              "      <th>2</th>\n",
              "      <td>00001cb558c7474b858f63b8e5484089</td>\n",
              "      <td>7476eb572501c81c8ad76648c4947416</td>\n",
              "    </tr>\n",
              "    <tr>\n",
              "      <th>3</th>\n",
              "      <td>0000234c-8c77-423e-a209-9c7fd2463186</td>\n",
              "      <td>89fb89610e536fd8f480df11f67f4122</td>\n",
              "    </tr>\n",
              "    <tr>\n",
              "      <th>4</th>\n",
              "      <td>0000279b-2013-431c-9a24-9e69f65a6cbe</td>\n",
              "      <td>4cc35c1d44b9e02755f59cc0e3ef0cd1</td>\n",
              "    </tr>\n",
              "    <tr>\n",
              "      <th>...</th>\n",
              "      <td>...</td>\n",
              "      <td>...</td>\n",
              "    </tr>\n",
              "    <tr>\n",
              "      <th>6097093</th>\n",
              "      <td>fffff48f-c0bc-439b-bcd3-8a07573715db</td>\n",
              "      <td>7bf12d9c050f9a7ef3728db5730432ae</td>\n",
              "    </tr>\n",
              "    <tr>\n",
              "      <th>6097094</th>\n",
              "      <td>fffff6fb-729d-4651-8cf8-98a9cb76d3f0</td>\n",
              "      <td>ff94473e331c36c3ef88fc4c557f8ee0</td>\n",
              "    </tr>\n",
              "    <tr>\n",
              "      <th>6097095</th>\n",
              "      <td>fffffa53-9e57-4795-955e-1d992c532e9a</td>\n",
              "      <td>0a179d0f4ce995945fbed45c736bbba1</td>\n",
              "    </tr>\n",
              "    <tr>\n",
              "      <th>6097096</th>\n",
              "      <td>fffffb1456d04fc791fe68f9fea880fc</td>\n",
              "      <td>e699e85dd2c7ce24a456ec327d26a806</td>\n",
              "    </tr>\n",
              "    <tr>\n",
              "      <th>6097097</th>\n",
              "      <td>ffffff89-c259-4615-a7b3-b62f10931d9b</td>\n",
              "      <td>392b4686b770bae2da6bf5ac4574add5</td>\n",
              "    </tr>\n",
              "  </tbody>\n",
              "</table>\n",
              "<p>6097098 rows × 2 columns</p>\n",
              "</div>"
            ],
            "text/plain": [
              "                                    viewer_id  \\\n",
              "0        00000666-2e86-4a04-bc49-2147c71fd754   \n",
              "1        000014d1-038a-46bb-8d01-82cd6837bd5c   \n",
              "2            00001cb558c7474b858f63b8e5484089   \n",
              "3        0000234c-8c77-423e-a209-9c7fd2463186   \n",
              "4        0000279b-2013-431c-9a24-9e69f65a6cbe   \n",
              "...                                       ...   \n",
              "6097093  fffff48f-c0bc-439b-bcd3-8a07573715db   \n",
              "6097094  fffff6fb-729d-4651-8cf8-98a9cb76d3f0   \n",
              "6097095  fffffa53-9e57-4795-955e-1d992c532e9a   \n",
              "6097096      fffffb1456d04fc791fe68f9fea880fc   \n",
              "6097097  ffffff89-c259-4615-a7b3-b62f10931d9b   \n",
              "\n",
              "                      last_video_id_train  \n",
              "0        47fdcea70b5c3002b5601dedd7aa4db7  \n",
              "1        a23e3b7aaa8d3aeb5ae4192aa3228ef4  \n",
              "2        7476eb572501c81c8ad76648c4947416  \n",
              "3        89fb89610e536fd8f480df11f67f4122  \n",
              "4        4cc35c1d44b9e02755f59cc0e3ef0cd1  \n",
              "...                                   ...  \n",
              "6097093  7bf12d9c050f9a7ef3728db5730432ae  \n",
              "6097094  ff94473e331c36c3ef88fc4c557f8ee0  \n",
              "6097095  0a179d0f4ce995945fbed45c736bbba1  \n",
              "6097096  e699e85dd2c7ce24a456ec327d26a806  \n",
              "6097097  392b4686b770bae2da6bf5ac4574add5  \n",
              "\n",
              "[6097098 rows x 2 columns]"
            ]
          },
          "execution_count": 24,
          "metadata": {},
          "output_type": "execute_result"
        }
      ],
      "source": [
        "last_video_id_train = (\n",
        "    df\n",
        "    .sort_values(\"event_datetime\")\n",
        "    .groupby(\"viewer_id\", as_index=False)\n",
        "    .video_id\n",
        "    .agg(\"last\")\n",
        "    .sort_values(\"viewer_id\")\n",
        "    .rename(columns={\"video_id\": \"last_video_id_train\"})\n",
        ")\n",
        "last_video_id_train"
      ]
    },
    {
      "cell_type": "code",
      "execution_count": null,
      "metadata": {
        "id": "MmDPBdWGBxjC",
        "outputId": "b531a955-6cb3-4bfa-af57-50123ffbbe32"
      },
      "outputs": [
        {
          "data": {
            "text/html": [
              "<div>\n",
              "<style scoped>\n",
              "    .dataframe tbody tr th:only-of-type {\n",
              "        vertical-align: middle;\n",
              "    }\n",
              "\n",
              "    .dataframe tbody tr th {\n",
              "        vertical-align: top;\n",
              "    }\n",
              "\n",
              "    .dataframe thead th {\n",
              "        text-align: right;\n",
              "    }\n",
              "</style>\n",
              "<table border=\"1\" class=\"dataframe\">\n",
              "  <thead>\n",
              "    <tr style=\"text-align: right;\">\n",
              "      <th></th>\n",
              "      <th>viewer_id</th>\n",
              "      <th>target_video_ids</th>\n",
              "    </tr>\n",
              "  </thead>\n",
              "  <tbody>\n",
              "    <tr>\n",
              "      <th>0</th>\n",
              "      <td>000014d1-038a-46bb-8d01-82cd6837bd5c</td>\n",
              "      <td>[334c9d95429e789e90b76fc2524557a5, 80e6410839c...</td>\n",
              "    </tr>\n",
              "    <tr>\n",
              "      <th>1</th>\n",
              "      <td>00001fd7-b624-4352-9b4d-6aa918f3f762</td>\n",
              "      <td>[2d70b71789c56df7e1a8013c0bcb3930, 2d70b71789c...</td>\n",
              "    </tr>\n",
              "    <tr>\n",
              "      <th>2</th>\n",
              "      <td>00006ccb-b15a-4943-8fcf-04f520891c87</td>\n",
              "      <td>[dfef9acc607aec018e20c5667fe0470d, dfef9acc607...</td>\n",
              "    </tr>\n",
              "    <tr>\n",
              "      <th>3</th>\n",
              "      <td>0000b335-bb03-4417-b343-91dc0b672c44</td>\n",
              "      <td>[cdf69b8d4966a3c43fe884cd18dbddc1, c80f85e7050...</td>\n",
              "    </tr>\n",
              "    <tr>\n",
              "      <th>4</th>\n",
              "      <td>0000c64c670e4db78a045bea5bef7307</td>\n",
              "      <td>[4f2d0cf0b8f710a0c259710a4d08c755, d8c1bbe284a...</td>\n",
              "    </tr>\n",
              "    <tr>\n",
              "      <th>...</th>\n",
              "      <td>...</td>\n",
              "      <td>...</td>\n",
              "    </tr>\n",
              "    <tr>\n",
              "      <th>1011011</th>\n",
              "      <td>ffff1180-4797-459e-95c6-cac07f18df45</td>\n",
              "      <td>[ed2f2a992d6f59ab7d2463975b07fbde, 7b7efcfd3d8...</td>\n",
              "    </tr>\n",
              "    <tr>\n",
              "      <th>1011012</th>\n",
              "      <td>ffff2cdd-8b59-4d72-af18-e58992d4d430</td>\n",
              "      <td>[cbacbf4afe50c10380c6912884a75015, 84f061c43cc...</td>\n",
              "    </tr>\n",
              "    <tr>\n",
              "      <th>1011013</th>\n",
              "      <td>ffff6435-7a50-4342-b8cf-16d473ad3f8f</td>\n",
              "      <td>[805c350e7408f88f07d47d55bdc02a53, 805c350e740...</td>\n",
              "    </tr>\n",
              "    <tr>\n",
              "      <th>1011014</th>\n",
              "      <td>ffffa74ae6ce4b109b942394f6041861</td>\n",
              "      <td>[49d36ae0ccc2ea6ff17054296206ada5, 49d36ae0ccc...</td>\n",
              "    </tr>\n",
              "    <tr>\n",
              "      <th>1011015</th>\n",
              "      <td>ffffc091-4c52-43b6-b2e1-ba22b2f1d549</td>\n",
              "      <td>[214decb1ce1f72a4d06328d2d4f3de97, 612d12bd02c...</td>\n",
              "    </tr>\n",
              "  </tbody>\n",
              "</table>\n",
              "<p>1011016 rows × 2 columns</p>\n",
              "</div>"
            ],
            "text/plain": [
              "                                    viewer_id  \\\n",
              "0        000014d1-038a-46bb-8d01-82cd6837bd5c   \n",
              "1        00001fd7-b624-4352-9b4d-6aa918f3f762   \n",
              "2        00006ccb-b15a-4943-8fcf-04f520891c87   \n",
              "3        0000b335-bb03-4417-b343-91dc0b672c44   \n",
              "4            0000c64c670e4db78a045bea5bef7307   \n",
              "...                                       ...   \n",
              "1011011  ffff1180-4797-459e-95c6-cac07f18df45   \n",
              "1011012  ffff2cdd-8b59-4d72-af18-e58992d4d430   \n",
              "1011013  ffff6435-7a50-4342-b8cf-16d473ad3f8f   \n",
              "1011014      ffffa74ae6ce4b109b942394f6041861   \n",
              "1011015  ffffc091-4c52-43b6-b2e1-ba22b2f1d549   \n",
              "\n",
              "                                          target_video_ids  \n",
              "0        [334c9d95429e789e90b76fc2524557a5, 80e6410839c...  \n",
              "1        [2d70b71789c56df7e1a8013c0bcb3930, 2d70b71789c...  \n",
              "2        [dfef9acc607aec018e20c5667fe0470d, dfef9acc607...  \n",
              "3        [cdf69b8d4966a3c43fe884cd18dbddc1, c80f85e7050...  \n",
              "4        [4f2d0cf0b8f710a0c259710a4d08c755, d8c1bbe284a...  \n",
              "...                                                    ...  \n",
              "1011011  [ed2f2a992d6f59ab7d2463975b07fbde, 7b7efcfd3d8...  \n",
              "1011012  [cbacbf4afe50c10380c6912884a75015, 84f061c43cc...  \n",
              "1011013  [805c350e7408f88f07d47d55bdc02a53, 805c350e740...  \n",
              "1011014  [49d36ae0ccc2ea6ff17054296206ada5, 49d36ae0ccc...  \n",
              "1011015  [214decb1ce1f72a4d06328d2d4f3de97, 612d12bd02c...  \n",
              "\n",
              "[1011016 rows x 2 columns]"
            ]
          },
          "execution_count": 30,
          "metadata": {},
          "output_type": "execute_result"
        }
      ],
      "source": [
        "results_2 = (\n",
        "    test\n",
        "    .sort_values(\"event_datetime\")\n",
        "    .groupby(\"viewer_id\", as_index=False)\n",
        "    .video_id\n",
        "    .agg(list)\n",
        "    .sort_values(\"viewer_id\")\n",
        "    .rename(columns={\"video_id\": \"target_video_ids\"})\n",
        ")\n",
        "results_2"
      ]
    },
    {
      "cell_type": "code",
      "execution_count": null,
      "metadata": {
        "id": "QCXvRq-GBxjD",
        "outputId": "52f04509-0f30-4d78-bab9-e61acd2a8a78"
      },
      "outputs": [
        {
          "data": {
            "text/html": [
              "<div>\n",
              "<style scoped>\n",
              "    .dataframe tbody tr th:only-of-type {\n",
              "        vertical-align: middle;\n",
              "    }\n",
              "\n",
              "    .dataframe tbody tr th {\n",
              "        vertical-align: top;\n",
              "    }\n",
              "\n",
              "    .dataframe thead th {\n",
              "        text-align: right;\n",
              "    }\n",
              "</style>\n",
              "<table border=\"1\" class=\"dataframe\">\n",
              "  <thead>\n",
              "    <tr style=\"text-align: right;\">\n",
              "      <th></th>\n",
              "      <th>viewer_id</th>\n",
              "      <th>target_video_ids</th>\n",
              "      <th>last_video_id_train</th>\n",
              "    </tr>\n",
              "  </thead>\n",
              "  <tbody>\n",
              "    <tr>\n",
              "      <th>0</th>\n",
              "      <td>000014d1-038a-46bb-8d01-82cd6837bd5c</td>\n",
              "      <td>[334c9d95429e789e90b76fc2524557a5, 80e6410839c...</td>\n",
              "      <td>a23e3b7aaa8d3aeb5ae4192aa3228ef4</td>\n",
              "    </tr>\n",
              "    <tr>\n",
              "      <th>1</th>\n",
              "      <td>00001fd7-b624-4352-9b4d-6aa918f3f762</td>\n",
              "      <td>[2d70b71789c56df7e1a8013c0bcb3930, 2d70b71789c...</td>\n",
              "      <td></td>\n",
              "    </tr>\n",
              "    <tr>\n",
              "      <th>2</th>\n",
              "      <td>00006ccb-b15a-4943-8fcf-04f520891c87</td>\n",
              "      <td>[dfef9acc607aec018e20c5667fe0470d, dfef9acc607...</td>\n",
              "      <td></td>\n",
              "    </tr>\n",
              "    <tr>\n",
              "      <th>3</th>\n",
              "      <td>0000b335-bb03-4417-b343-91dc0b672c44</td>\n",
              "      <td>[cdf69b8d4966a3c43fe884cd18dbddc1, c80f85e7050...</td>\n",
              "      <td>0dcd8a9e72221c515f7e56deb228d588</td>\n",
              "    </tr>\n",
              "    <tr>\n",
              "      <th>4</th>\n",
              "      <td>0000c64c670e4db78a045bea5bef7307</td>\n",
              "      <td>[4f2d0cf0b8f710a0c259710a4d08c755, d8c1bbe284a...</td>\n",
              "      <td></td>\n",
              "    </tr>\n",
              "    <tr>\n",
              "      <th>...</th>\n",
              "      <td>...</td>\n",
              "      <td>...</td>\n",
              "      <td>...</td>\n",
              "    </tr>\n",
              "    <tr>\n",
              "      <th>1011011</th>\n",
              "      <td>ffff1180-4797-459e-95c6-cac07f18df45</td>\n",
              "      <td>[ed2f2a992d6f59ab7d2463975b07fbde, 7b7efcfd3d8...</td>\n",
              "      <td></td>\n",
              "    </tr>\n",
              "    <tr>\n",
              "      <th>1011012</th>\n",
              "      <td>ffff2cdd-8b59-4d72-af18-e58992d4d430</td>\n",
              "      <td>[cbacbf4afe50c10380c6912884a75015, 84f061c43cc...</td>\n",
              "      <td>d5f6b92e0344aabb9f510f1f1546e1c9</td>\n",
              "    </tr>\n",
              "    <tr>\n",
              "      <th>1011013</th>\n",
              "      <td>ffff6435-7a50-4342-b8cf-16d473ad3f8f</td>\n",
              "      <td>[805c350e7408f88f07d47d55bdc02a53, 805c350e740...</td>\n",
              "      <td></td>\n",
              "    </tr>\n",
              "    <tr>\n",
              "      <th>1011014</th>\n",
              "      <td>ffffa74ae6ce4b109b942394f6041861</td>\n",
              "      <td>[49d36ae0ccc2ea6ff17054296206ada5, 49d36ae0ccc...</td>\n",
              "      <td></td>\n",
              "    </tr>\n",
              "    <tr>\n",
              "      <th>1011015</th>\n",
              "      <td>ffffc091-4c52-43b6-b2e1-ba22b2f1d549</td>\n",
              "      <td>[214decb1ce1f72a4d06328d2d4f3de97, 612d12bd02c...</td>\n",
              "      <td>b004fb534d1fa744787afc8c00745687</td>\n",
              "    </tr>\n",
              "  </tbody>\n",
              "</table>\n",
              "<p>1011016 rows × 3 columns</p>\n",
              "</div>"
            ],
            "text/plain": [
              "                                    viewer_id  \\\n",
              "0        000014d1-038a-46bb-8d01-82cd6837bd5c   \n",
              "1        00001fd7-b624-4352-9b4d-6aa918f3f762   \n",
              "2        00006ccb-b15a-4943-8fcf-04f520891c87   \n",
              "3        0000b335-bb03-4417-b343-91dc0b672c44   \n",
              "4            0000c64c670e4db78a045bea5bef7307   \n",
              "...                                       ...   \n",
              "1011011  ffff1180-4797-459e-95c6-cac07f18df45   \n",
              "1011012  ffff2cdd-8b59-4d72-af18-e58992d4d430   \n",
              "1011013  ffff6435-7a50-4342-b8cf-16d473ad3f8f   \n",
              "1011014      ffffa74ae6ce4b109b942394f6041861   \n",
              "1011015  ffffc091-4c52-43b6-b2e1-ba22b2f1d549   \n",
              "\n",
              "                                          target_video_ids  \\\n",
              "0        [334c9d95429e789e90b76fc2524557a5, 80e6410839c...   \n",
              "1        [2d70b71789c56df7e1a8013c0bcb3930, 2d70b71789c...   \n",
              "2        [dfef9acc607aec018e20c5667fe0470d, dfef9acc607...   \n",
              "3        [cdf69b8d4966a3c43fe884cd18dbddc1, c80f85e7050...   \n",
              "4        [4f2d0cf0b8f710a0c259710a4d08c755, d8c1bbe284a...   \n",
              "...                                                    ...   \n",
              "1011011  [ed2f2a992d6f59ab7d2463975b07fbde, 7b7efcfd3d8...   \n",
              "1011012  [cbacbf4afe50c10380c6912884a75015, 84f061c43cc...   \n",
              "1011013  [805c350e7408f88f07d47d55bdc02a53, 805c350e740...   \n",
              "1011014  [49d36ae0ccc2ea6ff17054296206ada5, 49d36ae0ccc...   \n",
              "1011015  [214decb1ce1f72a4d06328d2d4f3de97, 612d12bd02c...   \n",
              "\n",
              "                      last_video_id_train  \n",
              "0        a23e3b7aaa8d3aeb5ae4192aa3228ef4  \n",
              "1                                          \n",
              "2                                          \n",
              "3        0dcd8a9e72221c515f7e56deb228d588  \n",
              "4                                          \n",
              "...                                   ...  \n",
              "1011011                                    \n",
              "1011012  d5f6b92e0344aabb9f510f1f1546e1c9  \n",
              "1011013                                    \n",
              "1011014                                    \n",
              "1011015  b004fb534d1fa744787afc8c00745687  \n",
              "\n",
              "[1011016 rows x 3 columns]"
            ]
          },
          "execution_count": 32,
          "metadata": {},
          "output_type": "execute_result"
        }
      ],
      "source": [
        "results_3 = (\n",
        "    results_2\n",
        "    .merge(last_video_id_train, on=\"viewer_id\", how=\"left\")\n",
        "    .fillna(\" \")\n",
        ")\n",
        "results_3"
      ]
    },
    {
      "cell_type": "code",
      "execution_count": null,
      "metadata": {
        "id": "FJUDNGx3BxjD"
      },
      "outputs": [],
      "source": [
        "results_4 = results_3.sample(1_000, replace=False)"
      ]
    },
    {
      "cell_type": "code",
      "execution_count": null,
      "metadata": {
        "id": "FufyP3d3BxjD"
      },
      "outputs": [],
      "source": [
        "video_id_to_idx = {v: k for k, v in item_ids.items()}\n",
        "\n",
        "def get_recs_by_als(model, video_id: str, num_candidates: int) -> List[str]:\n",
        "    item_index = video_id_to_idx.get(video_id, None)\n",
        "    if item_index or item_index == 0:\n",
        "        # skip first recommendation because it finds the same item\n",
        "        recommendations = model.similar_items(\n",
        "            item_index, N=num_candidates, filter_items=[item_index]\n",
        "        )[0]\n",
        "    else:\n",
        "        return []\n",
        "    return list(map(lambda x: item_ids[x], recommendations))\n",
        "\n",
        "def get_recs_by_i2i(rules, video_id: str, num_candidates: int) -> List[str]:\n",
        "    item_index = video_id_to_idx.get(video_id, None)\n",
        "    if item_index or item_index == 0:\n",
        "        # skip first recommendation because it finds the same item\n",
        "        recommendations = rules[rules.item_id==item_index].pair.to_list()[:num_candidates]\n",
        "    else:\n",
        "        return []\n",
        "    return list(map(lambda x: item_ids[x], recommendations))"
      ]
    },
    {
      "cell_type": "code",
      "execution_count": null,
      "metadata": {
        "id": "bHlLSclDBxjD",
        "outputId": "45ff419d-145b-4b6e-88a1-141fa6a8e3b0"
      },
      "outputs": [
        {
          "name": "stderr",
          "output_type": "stream",
          "text": [
            "  0%|          | 0/1000 [00:00<?, ?it/s]"
          ]
        },
        {
          "name": "stderr",
          "output_type": "stream",
          "text": [
            "100%|██████████| 1000/1000 [00:01<00:00, 548.24it/s]\n"
          ]
        }
      ],
      "source": [
        "results_4[\"als_recs\"] = results_4[\"last_video_id_train\"].progress_apply(lambda x: get_recs_by_als(model, x, 100))"
      ]
    },
    {
      "cell_type": "code",
      "execution_count": null,
      "metadata": {
        "id": "9WlOukJVBxjD",
        "outputId": "188bce77-8943-4a9c-99f1-003f479030f4"
      },
      "outputs": [
        {
          "name": "stderr",
          "output_type": "stream",
          "text": [
            "100%|██████████| 1000/1000 [00:53<00:00, 18.54it/s]\n"
          ]
        }
      ],
      "source": [
        "results_4[\"i2i_recs\"] = results_4[\"last_video_id_train\"].progress_apply(lambda x: get_recs_by_i2i(rules, x, 100))"
      ]
    },
    {
      "cell_type": "code",
      "execution_count": null,
      "metadata": {
        "id": "fsj0ehF9BxjD",
        "outputId": "0683acc0-2ba0-4a1d-cca8-eff409aab6c4"
      },
      "outputs": [
        {
          "name": "stderr",
          "output_type": "stream",
          "text": [
            "100%|██████████| 1000/1000 [00:00<00:00, 383216.45it/s]\n"
          ]
        },
        {
          "data": {
            "text/html": [
              "<div>\n",
              "<style scoped>\n",
              "    .dataframe tbody tr th:only-of-type {\n",
              "        vertical-align: middle;\n",
              "    }\n",
              "\n",
              "    .dataframe tbody tr th {\n",
              "        vertical-align: top;\n",
              "    }\n",
              "\n",
              "    .dataframe thead th {\n",
              "        text-align: right;\n",
              "    }\n",
              "</style>\n",
              "<table border=\"1\" class=\"dataframe\">\n",
              "  <thead>\n",
              "    <tr style=\"text-align: right;\">\n",
              "      <th></th>\n",
              "      <th>viewer_id</th>\n",
              "      <th>target_video_ids</th>\n",
              "      <th>last_video_id_train</th>\n",
              "      <th>i2i_recs</th>\n",
              "      <th>i2i_recs_len</th>\n",
              "    </tr>\n",
              "  </thead>\n",
              "  <tbody>\n",
              "    <tr>\n",
              "      <th>290764</th>\n",
              "      <td>27783433-87fc-4db4-a97c-f8f8ad5ce996</td>\n",
              "      <td>[c5a75c04add830b7f2aeef2170aac40b, a84aacac8a7...</td>\n",
              "      <td>e55b73e5687e0e88155032f6669ea8e7</td>\n",
              "      <td>[b94cbfa1f279d29842d42c03fbb92069, 040f7db54f4...</td>\n",
              "      <td>100</td>\n",
              "    </tr>\n",
              "    <tr>\n",
              "      <th>220548</th>\n",
              "      <td>213684cb-e1ae-4cbf-b65a-1a8399e981e5</td>\n",
              "      <td>[24bb85e734c7ad7bd21273df8a1c7706, ffe8eaddf7c...</td>\n",
              "      <td>d01ba26c801cd97c2e764d316f6fc1fe</td>\n",
              "      <td>[38b3244f6d045ddf8d5035824fa28137, f10f7054b96...</td>\n",
              "      <td>100</td>\n",
              "    </tr>\n",
              "    <tr>\n",
              "      <th>458744</th>\n",
              "      <td>35755180</td>\n",
              "      <td>[230891d381fd309aa915bff385b5e01c, 6c55e530e74...</td>\n",
              "      <td>dd653fd5ee95548f3a16e3748051654e</td>\n",
              "      <td>[c0e8942a806f05f6eb1841e3777414c1, ee0ce70c6c4...</td>\n",
              "      <td>100</td>\n",
              "    </tr>\n",
              "    <tr>\n",
              "      <th>625363</th>\n",
              "      <td>663724744784432614</td>\n",
              "      <td>[8c25f3a7c6a137c054e896e6381c6688, 800be356883...</td>\n",
              "      <td>a461c4d5d4732ff364ad10478594e09c</td>\n",
              "      <td>[18422b9a2c82189d5dc508bff3b9b99d, e47f1370382...</td>\n",
              "      <td>100</td>\n",
              "    </tr>\n",
              "    <tr>\n",
              "      <th>340229</th>\n",
              "      <td>30717617</td>\n",
              "      <td>[fee3e932351c1716565ae696ecb274e0, 9f567cb7cdc...</td>\n",
              "      <td>729904945a5263c4f16283275bcc59e3</td>\n",
              "      <td>[9f1f069c78ec6d5c0b1d006ce8889b19, cdf69b8d496...</td>\n",
              "      <td>100</td>\n",
              "    </tr>\n",
              "    <tr>\n",
              "      <th>...</th>\n",
              "      <td>...</td>\n",
              "      <td>...</td>\n",
              "      <td>...</td>\n",
              "      <td>...</td>\n",
              "      <td>...</td>\n",
              "    </tr>\n",
              "    <tr>\n",
              "      <th>269608</th>\n",
              "      <td>25866111</td>\n",
              "      <td>[ebb2f234939fb55a35454ade43207010, 698ee39117f...</td>\n",
              "      <td>040f7db54f442c7685c0d469efc7c1f3</td>\n",
              "      <td>[66db8509d4202f73cc31a96428f7c863, e55b73e5687...</td>\n",
              "      <td>100</td>\n",
              "    </tr>\n",
              "    <tr>\n",
              "      <th>405417</th>\n",
              "      <td>34247356</td>\n",
              "      <td>[787c1676105205cfd95e610bfb5ab659, 317c3853e73...</td>\n",
              "      <td>ebeed30d94681c028adeb3952d295240</td>\n",
              "      <td>[17fecf6e04a3279927995260b4ff69a5, 654250e4a75...</td>\n",
              "      <td>100</td>\n",
              "    </tr>\n",
              "    <tr>\n",
              "      <th>521400</th>\n",
              "      <td>4521066708441089793</td>\n",
              "      <td>[ffe8eaddf7c6aee7845b18d08d1bde9b, c58f502c7bb...</td>\n",
              "      <td>447a1fde27827bb3033f84df3d585ced</td>\n",
              "      <td>[75c1d579951795b5d7732af7ddf8f0da, af9e08f0d43...</td>\n",
              "      <td>100</td>\n",
              "    </tr>\n",
              "    <tr>\n",
              "      <th>282301</th>\n",
              "      <td>26a24f94-2de3-41f7-8c01-4aa41e9f59c9</td>\n",
              "      <td>[cc6d064c1373aa8231a54d588fab655d, a1ddb891998...</td>\n",
              "      <td>763d2aea1c938a41097ae87003d7bb4c</td>\n",
              "      <td>[8eb1af34ad3fd0aab6593040b4dde7ab, f851aa51f76...</td>\n",
              "      <td>100</td>\n",
              "    </tr>\n",
              "    <tr>\n",
              "      <th>105706</th>\n",
              "      <td>1383313789171856220</td>\n",
              "      <td>[d4a29d1a66a944c3e988b9d85759c429, 874766363dd...</td>\n",
              "      <td>d647d2622655b4b718a4dc5b916554be</td>\n",
              "      <td>[7bcd6d54fe59b3371beb2a64c29aabd7, f58a57cc98d...</td>\n",
              "      <td>100</td>\n",
              "    </tr>\n",
              "  </tbody>\n",
              "</table>\n",
              "<p>581 rows × 5 columns</p>\n",
              "</div>"
            ],
            "text/plain": [
              "                                   viewer_id  \\\n",
              "290764  27783433-87fc-4db4-a97c-f8f8ad5ce996   \n",
              "220548  213684cb-e1ae-4cbf-b65a-1a8399e981e5   \n",
              "458744                              35755180   \n",
              "625363                    663724744784432614   \n",
              "340229                              30717617   \n",
              "...                                      ...   \n",
              "269608                              25866111   \n",
              "405417                              34247356   \n",
              "521400                   4521066708441089793   \n",
              "282301  26a24f94-2de3-41f7-8c01-4aa41e9f59c9   \n",
              "105706                   1383313789171856220   \n",
              "\n",
              "                                         target_video_ids  \\\n",
              "290764  [c5a75c04add830b7f2aeef2170aac40b, a84aacac8a7...   \n",
              "220548  [24bb85e734c7ad7bd21273df8a1c7706, ffe8eaddf7c...   \n",
              "458744  [230891d381fd309aa915bff385b5e01c, 6c55e530e74...   \n",
              "625363  [8c25f3a7c6a137c054e896e6381c6688, 800be356883...   \n",
              "340229  [fee3e932351c1716565ae696ecb274e0, 9f567cb7cdc...   \n",
              "...                                                   ...   \n",
              "269608  [ebb2f234939fb55a35454ade43207010, 698ee39117f...   \n",
              "405417  [787c1676105205cfd95e610bfb5ab659, 317c3853e73...   \n",
              "521400  [ffe8eaddf7c6aee7845b18d08d1bde9b, c58f502c7bb...   \n",
              "282301  [cc6d064c1373aa8231a54d588fab655d, a1ddb891998...   \n",
              "105706  [d4a29d1a66a944c3e988b9d85759c429, 874766363dd...   \n",
              "\n",
              "                     last_video_id_train  \\\n",
              "290764  e55b73e5687e0e88155032f6669ea8e7   \n",
              "220548  d01ba26c801cd97c2e764d316f6fc1fe   \n",
              "458744  dd653fd5ee95548f3a16e3748051654e   \n",
              "625363  a461c4d5d4732ff364ad10478594e09c   \n",
              "340229  729904945a5263c4f16283275bcc59e3   \n",
              "...                                  ...   \n",
              "269608  040f7db54f442c7685c0d469efc7c1f3   \n",
              "405417  ebeed30d94681c028adeb3952d295240   \n",
              "521400  447a1fde27827bb3033f84df3d585ced   \n",
              "282301  763d2aea1c938a41097ae87003d7bb4c   \n",
              "105706  d647d2622655b4b718a4dc5b916554be   \n",
              "\n",
              "                                                 i2i_recs  i2i_recs_len  \n",
              "290764  [b94cbfa1f279d29842d42c03fbb92069, 040f7db54f4...           100  \n",
              "220548  [38b3244f6d045ddf8d5035824fa28137, f10f7054b96...           100  \n",
              "458744  [c0e8942a806f05f6eb1841e3777414c1, ee0ce70c6c4...           100  \n",
              "625363  [18422b9a2c82189d5dc508bff3b9b99d, e47f1370382...           100  \n",
              "340229  [9f1f069c78ec6d5c0b1d006ce8889b19, cdf69b8d496...           100  \n",
              "...                                                   ...           ...  \n",
              "269608  [66db8509d4202f73cc31a96428f7c863, e55b73e5687...           100  \n",
              "405417  [17fecf6e04a3279927995260b4ff69a5, 654250e4a75...           100  \n",
              "521400  [75c1d579951795b5d7732af7ddf8f0da, af9e08f0d43...           100  \n",
              "282301  [8eb1af34ad3fd0aab6593040b4dde7ab, f851aa51f76...           100  \n",
              "105706  [7bcd6d54fe59b3371beb2a64c29aabd7, f58a57cc98d...           100  \n",
              "\n",
              "[581 rows x 5 columns]"
            ]
          },
          "execution_count": 180,
          "metadata": {},
          "output_type": "execute_result"
        }
      ],
      "source": [
        "results_4[\"i2i_recs_len\"] = results_4[\"i2i_recs\"].progress_apply(lambda row: len(row))\n",
        "results_4 = results_4.query(\"i2i_recs_len>0\")\n",
        "results_4"
      ]
    },
    {
      "cell_type": "code",
      "execution_count": null,
      "metadata": {
        "id": "DGHwCiQcBxjD"
      },
      "outputs": [],
      "source": [
        "explode_results_4 = results_4.explode(\"i2i_recs\")\n",
        "explode_results_4_target = results_4.explode(\"target_video_ids\")"
      ]
    },
    {
      "cell_type": "code",
      "execution_count": null,
      "metadata": {
        "id": "DDIlTpwTBxjD"
      },
      "outputs": [],
      "source": [
        "def transform_sequence(seq):\n",
        "    seen = set()\n",
        "    result = []\n",
        "    for num in seq:\n",
        "        if num not in seen:\n",
        "            seen.add(num)\n",
        "            result.append(1)\n",
        "        else:\n",
        "            last_num = result[-1]\n",
        "            result.append(last_num + 1)\n",
        "    return result"
      ]
    },
    {
      "cell_type": "code",
      "execution_count": null,
      "metadata": {
        "id": "EoqnH27lBxjE"
      },
      "outputs": [],
      "source": [
        "reco = pd.DataFrame(\n",
        "    {\n",
        "        Columns.User: explode_results_4.viewer_id.tolist(),\n",
        "        Columns.Item: explode_results_4.i2i_recs.tolist(),\n",
        "        Columns.Rank: transform_sequence(explode_results_4.viewer_id.tolist()),\n",
        "    }\n",
        ")\n",
        "interactions = pd.DataFrame(\n",
        "    {\n",
        "        Columns.User: explode_results_4_target.viewer_id.tolist(),\n",
        "        Columns.Item: explode_results_4_target.target_video_ids.tolist(),\n",
        "    }\n",
        ")\n",
        "prev_interactions = pd.DataFrame(\n",
        "    {\n",
        "        Columns.User: df[df[\"viewer_id\"].isin(explode_results_4.viewer_id.unique().tolist())].viewer_id.tolist(),\n",
        "        Columns.Item: df[df[\"viewer_id\"].isin(explode_results_4.viewer_id.unique().tolist())].video_id.tolist(),\n",
        "    }\n",
        ")\n",
        "catalog = df[df[\"viewer_id\"].isin(explode_results_4.viewer_id.unique().tolist())].video_id.unique().tolist()"
      ]
    },
    {
      "cell_type": "code",
      "execution_count": null,
      "metadata": {
        "id": "-DXJPJj2BxjE",
        "outputId": "d7b11e9a-8675-4d95-fa48-e5559d0b45f6"
      },
      "outputs": [
        {
          "name": "stdout",
          "output_type": "stream",
          "text": [
            "NDCG@100: 0.01990878506378616\n",
            "MAP@100: 0.08635107664638163\n",
            "MRR@100: 0.13607047077273035\n",
            "Precision@100: 0.010845528455284555\n",
            "Recall@100: 0.21868629439937826\n",
            "Serendipity@100: 0.007265557404677189\n",
            "Novelty@100: 9.184493584132278\n"
          ]
        }
      ],
      "source": [
        "# ALS\n",
        "print(f\"NDCG@100: {NDCG(k=100).calc(reco, interactions)}\")\n",
        "print(f\"MAP@100: {MAP(k=100).calc(reco, interactions)}\")\n",
        "print(f\"MRR@100: {MRR(k=100).calc(reco, interactions)}\")\n",
        "print(f\"Precision@100: {Precision(k=100).calc(reco, interactions)}\")\n",
        "print(f\"Recall@100: {Recall(k=100).calc(reco, interactions)}\")\n",
        "print(f\"Serendipity@100: {Serendipity(k=100).calc(reco, interactions, prev_interactions, catalog)}\")\n",
        "print(f\"Novelty@100: {MeanInvUserFreq(k=100).calc(reco, prev_interactions)}\")"
      ]
    },
    {
      "cell_type": "code",
      "execution_count": null,
      "metadata": {
        "id": "a9hPGEdABxjE",
        "outputId": "f3ea7930-c11b-4ce0-c20a-396b931d140e"
      },
      "outputs": [
        {
          "name": "stdout",
          "output_type": "stream",
          "text": [
            "NDCG@100: 0.028393790021247287\n",
            "MAP@100: 0.1188660923167066\n",
            "MRR@100: 0.18389109698922687\n",
            "Precision@100: 0.016179001721170396\n",
            "Recall@100: 0.3772674275046741\n",
            "Serendipity@100: 0.007907149205909528\n",
            "Novelty@100: 7.957863915366612\n"
          ]
        }
      ],
      "source": [
        "# i2i\n",
        "print(f\"NDCG@100: {NDCG(k=100).calc(reco, interactions)}\")\n",
        "print(f\"MAP@100: {MAP(k=100).calc(reco, interactions)}\")\n",
        "print(f\"MRR@100: {MRR(k=100).calc(reco, interactions)}\")\n",
        "print(f\"Precision@100: {Precision(k=100).calc(reco, interactions)}\")\n",
        "print(f\"Recall@100: {Recall(k=100).calc(reco, interactions)}\")\n",
        "print(f\"Serendipity@100: {Serendipity(k=100).calc(reco, interactions, prev_interactions, catalog)}\")\n",
        "print(f\"Novelty@100: {MeanInvUserFreq(k=100).calc(reco, prev_interactions)}\")"
      ]
    },
    {
      "cell_type": "code",
      "execution_count": null,
      "metadata": {
        "id": "AxSJDfEDBxjE"
      },
      "outputs": [],
      "source": []
    }
  ],
  "metadata": {
    "kernelspec": {
      "display_name": "venv_rec_sys",
      "language": "python",
      "name": "python3"
    },
    "language_info": {
      "codemirror_mode": {
        "name": "ipython",
        "version": 3
      },
      "file_extension": ".py",
      "mimetype": "text/x-python",
      "name": "python",
      "nbconvert_exporter": "python",
      "pygments_lexer": "ipython3",
      "version": "3.8.10"
    },
    "colab": {
      "provenance": []
    }
  },
  "nbformat": 4,
  "nbformat_minor": 0
}